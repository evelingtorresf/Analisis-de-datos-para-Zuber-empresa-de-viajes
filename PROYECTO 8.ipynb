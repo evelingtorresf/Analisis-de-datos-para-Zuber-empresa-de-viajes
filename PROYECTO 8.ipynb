{
 "cells": [
  {
   "cell_type": "code",
   "execution_count": 75,
   "id": "f25a03d7-0b5b-4b22-81ea-ff22975da9d8",
   "metadata": {
    "tags": []
   },
   "outputs": [],
   "source": [
    "import pandas as pd\n",
    "import matplotlib.pyplot as plt\n",
    "import seaborn as sns"
   ]
  },
  {
   "cell_type": "markdown",
   "id": "2ca45bc7-b0f3-417b-b756-9badb606670b",
   "metadata": {},
   "source": [
    "### Paso 4. Análisis exploratorio de datos (Python)"
   ]
  },
  {
   "cell_type": "code",
   "execution_count": 77,
   "id": "a2d0be03-4568-4029-936d-b082a2e3a255",
   "metadata": {},
   "outputs": [],
   "source": [
    "company_trips_df = pd.read_csv('moved_project_sql_result_01.csv')"
   ]
  },
  {
   "cell_type": "code",
   "execution_count": 79,
   "id": "a471459c-8564-4d1b-a4b3-0a8301ea0e9a",
   "metadata": {
    "tags": []
   },
   "outputs": [
    {
     "data": {
      "text/html": [
       "<div>\n",
       "<style scoped>\n",
       "    .dataframe tbody tr th:only-of-type {\n",
       "        vertical-align: middle;\n",
       "    }\n",
       "\n",
       "    .dataframe tbody tr th {\n",
       "        vertical-align: top;\n",
       "    }\n",
       "\n",
       "    .dataframe thead th {\n",
       "        text-align: right;\n",
       "    }\n",
       "</style>\n",
       "<table border=\"1\" class=\"dataframe\">\n",
       "  <thead>\n",
       "    <tr style=\"text-align: right;\">\n",
       "      <th></th>\n",
       "      <th>company_name</th>\n",
       "      <th>trips_amount</th>\n",
       "    </tr>\n",
       "  </thead>\n",
       "  <tbody>\n",
       "    <tr>\n",
       "      <th>0</th>\n",
       "      <td>Flash Cab</td>\n",
       "      <td>19558</td>\n",
       "    </tr>\n",
       "    <tr>\n",
       "      <th>1</th>\n",
       "      <td>Taxi Affiliation Services</td>\n",
       "      <td>11422</td>\n",
       "    </tr>\n",
       "    <tr>\n",
       "      <th>2</th>\n",
       "      <td>Medallion Leasin</td>\n",
       "      <td>10367</td>\n",
       "    </tr>\n",
       "    <tr>\n",
       "      <th>3</th>\n",
       "      <td>Yellow Cab</td>\n",
       "      <td>9888</td>\n",
       "    </tr>\n",
       "    <tr>\n",
       "      <th>4</th>\n",
       "      <td>Taxi Affiliation Service Yellow</td>\n",
       "      <td>9299</td>\n",
       "    </tr>\n",
       "  </tbody>\n",
       "</table>\n",
       "</div>"
      ],
      "text/plain": [
       "                      company_name  trips_amount\n",
       "0                        Flash Cab         19558\n",
       "1        Taxi Affiliation Services         11422\n",
       "2                 Medallion Leasin         10367\n",
       "3                       Yellow Cab          9888\n",
       "4  Taxi Affiliation Service Yellow          9299"
      ]
     },
     "execution_count": 79,
     "metadata": {},
     "output_type": "execute_result"
    }
   ],
   "source": [
    "company_trips_df.head()"
   ]
  },
  {
   "cell_type": "code",
   "execution_count": 81,
   "id": "8c9152ad-3eaa-4176-8e4e-cd76a0b6142e",
   "metadata": {
    "tags": []
   },
   "outputs": [
    {
     "name": "stdout",
     "output_type": "stream",
     "text": [
      "<class 'pandas.core.frame.DataFrame'>\n",
      "RangeIndex: 64 entries, 0 to 63\n",
      "Data columns (total 2 columns):\n",
      " #   Column        Non-Null Count  Dtype \n",
      "---  ------        --------------  ----- \n",
      " 0   company_name  64 non-null     object\n",
      " 1   trips_amount  64 non-null     int64 \n",
      "dtypes: int64(1), object(1)\n",
      "memory usage: 1.1+ KB\n"
     ]
    }
   ],
   "source": [
    "company_trips_df.info()"
   ]
  },
  {
   "cell_type": "code",
   "execution_count": 83,
   "id": "2b2ad440-8c63-41f5-8405-9caba1468bec",
   "metadata": {
    "tags": []
   },
   "outputs": [
    {
     "data": {
      "text/html": [
       "<div>\n",
       "<style scoped>\n",
       "    .dataframe tbody tr th:only-of-type {\n",
       "        vertical-align: middle;\n",
       "    }\n",
       "\n",
       "    .dataframe tbody tr th {\n",
       "        vertical-align: top;\n",
       "    }\n",
       "\n",
       "    .dataframe thead th {\n",
       "        text-align: right;\n",
       "    }\n",
       "</style>\n",
       "<table border=\"1\" class=\"dataframe\">\n",
       "  <thead>\n",
       "    <tr style=\"text-align: right;\">\n",
       "      <th></th>\n",
       "      <th>trips_amount</th>\n",
       "    </tr>\n",
       "  </thead>\n",
       "  <tbody>\n",
       "    <tr>\n",
       "      <th>count</th>\n",
       "      <td>64.000000</td>\n",
       "    </tr>\n",
       "    <tr>\n",
       "      <th>mean</th>\n",
       "      <td>2145.484375</td>\n",
       "    </tr>\n",
       "    <tr>\n",
       "      <th>std</th>\n",
       "      <td>3812.310186</td>\n",
       "    </tr>\n",
       "    <tr>\n",
       "      <th>min</th>\n",
       "      <td>2.000000</td>\n",
       "    </tr>\n",
       "    <tr>\n",
       "      <th>25%</th>\n",
       "      <td>20.750000</td>\n",
       "    </tr>\n",
       "    <tr>\n",
       "      <th>50%</th>\n",
       "      <td>178.500000</td>\n",
       "    </tr>\n",
       "    <tr>\n",
       "      <th>75%</th>\n",
       "      <td>2106.500000</td>\n",
       "    </tr>\n",
       "    <tr>\n",
       "      <th>max</th>\n",
       "      <td>19558.000000</td>\n",
       "    </tr>\n",
       "  </tbody>\n",
       "</table>\n",
       "</div>"
      ],
      "text/plain": [
       "       trips_amount\n",
       "count     64.000000\n",
       "mean    2145.484375\n",
       "std     3812.310186\n",
       "min        2.000000\n",
       "25%       20.750000\n",
       "50%      178.500000\n",
       "75%     2106.500000\n",
       "max    19558.000000"
      ]
     },
     "execution_count": 83,
     "metadata": {},
     "output_type": "execute_result"
    }
   ],
   "source": [
    "company_trips_df.describe()"
   ]
  },
  {
   "cell_type": "code",
   "execution_count": 85,
   "id": "7fb0e22d-99dd-4d7c-841d-ac2a1f038dde",
   "metadata": {
    "tags": []
   },
   "outputs": [],
   "source": [
    "top_10_empresas_taxis = company_trips_df.sort_values('trips_amount', ascending = False).head(10)"
   ]
  },
  {
   "cell_type": "code",
   "execution_count": 87,
   "id": "f8236ab8-ec99-4204-b838-c750736e137e",
   "metadata": {
    "tags": []
   },
   "outputs": [],
   "source": [
    "top_10_empresas_taxis = top_10_empresas_taxis.set_index('company_name')"
   ]
  },
  {
   "cell_type": "code",
   "execution_count": 89,
   "id": "8d9ab6c2-9131-4c88-bf9b-755d26c4604a",
   "metadata": {
    "tags": []
   },
   "outputs": [
    {
     "data": {
      "image/png": "[encoded data removed]",
      "text/plain": [
       "<Figure size 640x480 with 1 Axes>"
      ]
     },
     "metadata": {},
     "output_type": "display_data"
    }
   ],
   "source": [
    "top_10_empresas_taxis.plot(kind = 'bar').set_title('Principales empresas de taxis')\n",
    "plt.xlabel('Empresa')\n",
    "plt.ylabel('NUmero de viajes')\n",
    "plt.show()"
   ]
  },
  {
   "cell_type": "markdown",
   "id": "289b3969-858b-4b71-92af-6c9b48457996",
   "metadata": {},
   "source": [
    "* La empresa de taxis líder es Flash Cab con un 41% de ventas superior a la segunda empresa Taxi Affiliation Services.  "
   ]
  },
  {
   "cell_type": "code",
   "execution_count": 92,
   "id": "e5cdecbf-18e2-4edf-ab3f-2bc9eb488a3e",
   "metadata": {
    "tags": []
   },
   "outputs": [
    {
     "data": {
      "text/html": [
       "<div>\n",
       "<style scoped>\n",
       "    .dataframe tbody tr th:only-of-type {\n",
       "        vertical-align: middle;\n",
       "    }\n",
       "\n",
       "    .dataframe tbody tr th {\n",
       "        vertical-align: top;\n",
       "    }\n",
       "\n",
       "    .dataframe thead th {\n",
       "        text-align: right;\n",
       "    }\n",
       "</style>\n",
       "<table border=\"1\" class=\"dataframe\">\n",
       "  <thead>\n",
       "    <tr style=\"text-align: right;\">\n",
       "      <th></th>\n",
       "      <th>trips_amount</th>\n",
       "    </tr>\n",
       "    <tr>\n",
       "      <th>company_name</th>\n",
       "      <th></th>\n",
       "    </tr>\n",
       "  </thead>\n",
       "  <tbody>\n",
       "    <tr>\n",
       "      <th>Flash Cab</th>\n",
       "      <td>19558</td>\n",
       "    </tr>\n",
       "    <tr>\n",
       "      <th>Taxi Affiliation Services</th>\n",
       "      <td>11422</td>\n",
       "    </tr>\n",
       "    <tr>\n",
       "      <th>Medallion Leasin</th>\n",
       "      <td>10367</td>\n",
       "    </tr>\n",
       "    <tr>\n",
       "      <th>Yellow Cab</th>\n",
       "      <td>9888</td>\n",
       "    </tr>\n",
       "    <tr>\n",
       "      <th>Taxi Affiliation Service Yellow</th>\n",
       "      <td>9299</td>\n",
       "    </tr>\n",
       "    <tr>\n",
       "      <th>Chicago Carriage Cab Corp</th>\n",
       "      <td>9181</td>\n",
       "    </tr>\n",
       "    <tr>\n",
       "      <th>City Service</th>\n",
       "      <td>8448</td>\n",
       "    </tr>\n",
       "    <tr>\n",
       "      <th>Sun Taxi</th>\n",
       "      <td>7701</td>\n",
       "    </tr>\n",
       "    <tr>\n",
       "      <th>Star North Management LLC</th>\n",
       "      <td>7455</td>\n",
       "    </tr>\n",
       "    <tr>\n",
       "      <th>Blue Ribbon Taxi Association Inc.</th>\n",
       "      <td>5953</td>\n",
       "    </tr>\n",
       "  </tbody>\n",
       "</table>\n",
       "</div>"
      ],
      "text/plain": [
       "                                   trips_amount\n",
       "company_name                                   \n",
       "Flash Cab                                 19558\n",
       "Taxi Affiliation Services                 11422\n",
       "Medallion Leasin                          10367\n",
       "Yellow Cab                                 9888\n",
       "Taxi Affiliation Service Yellow            9299\n",
       "Chicago Carriage Cab Corp                  9181\n",
       "City Service                               8448\n",
       "Sun Taxi                                   7701\n",
       "Star North Management LLC                  7455\n",
       "Blue Ribbon Taxi Association Inc.          5953"
      ]
     },
     "execution_count": 92,
     "metadata": {},
     "output_type": "execute_result"
    }
   ],
   "source": [
    "top_10_empresas_taxis"
   ]
  },
  {
   "cell_type": "code",
   "execution_count": 94,
   "id": "966782b0-a0b8-4f7c-9369-c1c11e28fac6",
   "metadata": {
    "tags": []
   },
   "outputs": [],
   "source": [
    "dropoff_trips_df = pd.read_csv('moved_project_sql_result_04.csv')"
   ]
  },
  {
   "cell_type": "code",
   "execution_count": 96,
   "id": "68bccb31-e092-43df-a29d-47d3cd031e26",
   "metadata": {
    "tags": []
   },
   "outputs": [
    {
     "data": {
      "text/html": [
       "<div>\n",
       "<style scoped>\n",
       "    .dataframe tbody tr th:only-of-type {\n",
       "        vertical-align: middle;\n",
       "    }\n",
       "\n",
       "    .dataframe tbody tr th {\n",
       "        vertical-align: top;\n",
       "    }\n",
       "\n",
       "    .dataframe thead th {\n",
       "        text-align: right;\n",
       "    }\n",
       "</style>\n",
       "<table border=\"1\" class=\"dataframe\">\n",
       "  <thead>\n",
       "    <tr style=\"text-align: right;\">\n",
       "      <th></th>\n",
       "      <th>dropoff_location_name</th>\n",
       "      <th>average_trips</th>\n",
       "    </tr>\n",
       "  </thead>\n",
       "  <tbody>\n",
       "    <tr>\n",
       "      <th>0</th>\n",
       "      <td>Loop</td>\n",
       "      <td>10727.466667</td>\n",
       "    </tr>\n",
       "    <tr>\n",
       "      <th>1</th>\n",
       "      <td>River North</td>\n",
       "      <td>9523.666667</td>\n",
       "    </tr>\n",
       "    <tr>\n",
       "      <th>2</th>\n",
       "      <td>Streeterville</td>\n",
       "      <td>6664.666667</td>\n",
       "    </tr>\n",
       "    <tr>\n",
       "      <th>3</th>\n",
       "      <td>West Loop</td>\n",
       "      <td>5163.666667</td>\n",
       "    </tr>\n",
       "    <tr>\n",
       "      <th>4</th>\n",
       "      <td>O'Hare</td>\n",
       "      <td>2546.900000</td>\n",
       "    </tr>\n",
       "  </tbody>\n",
       "</table>\n",
       "</div>"
      ],
      "text/plain": [
       "  dropoff_location_name  average_trips\n",
       "0                  Loop   10727.466667\n",
       "1           River North    9523.666667\n",
       "2         Streeterville    6664.666667\n",
       "3             West Loop    5163.666667\n",
       "4                O'Hare    2546.900000"
      ]
     },
     "execution_count": 96,
     "metadata": {},
     "output_type": "execute_result"
    }
   ],
   "source": [
    "dropoff_trips_df.head()"
   ]
  },
  {
   "cell_type": "code",
   "execution_count": 98,
   "id": "b6527d05-4402-49f5-aa8c-6a8da563ed65",
   "metadata": {
    "tags": []
   },
   "outputs": [
    {
     "name": "stdout",
     "output_type": "stream",
     "text": [
      "<class 'pandas.core.frame.DataFrame'>\n",
      "RangeIndex: 94 entries, 0 to 93\n",
      "Data columns (total 2 columns):\n",
      " #   Column                 Non-Null Count  Dtype  \n",
      "---  ------                 --------------  -----  \n",
      " 0   dropoff_location_name  94 non-null     object \n",
      " 1   average_trips          94 non-null     float64\n",
      "dtypes: float64(1), object(1)\n",
      "memory usage: 1.6+ KB\n"
     ]
    }
   ],
   "source": [
    "dropoff_trips_df.info()"
   ]
  },
  {
   "cell_type": "code",
   "execution_count": 100,
   "id": "5c9b5786-07ba-445b-8be6-9dc559e74d11",
   "metadata": {
    "tags": []
   },
   "outputs": [
    {
     "data": {
      "text/html": [
       "<div>\n",
       "<style scoped>\n",
       "    .dataframe tbody tr th:only-of-type {\n",
       "        vertical-align: middle;\n",
       "    }\n",
       "\n",
       "    .dataframe tbody tr th {\n",
       "        vertical-align: top;\n",
       "    }\n",
       "\n",
       "    .dataframe thead th {\n",
       "        text-align: right;\n",
       "    }\n",
       "</style>\n",
       "<table border=\"1\" class=\"dataframe\">\n",
       "  <thead>\n",
       "    <tr style=\"text-align: right;\">\n",
       "      <th></th>\n",
       "      <th>average_trips</th>\n",
       "    </tr>\n",
       "  </thead>\n",
       "  <tbody>\n",
       "    <tr>\n",
       "      <th>count</th>\n",
       "      <td>94.000000</td>\n",
       "    </tr>\n",
       "    <tr>\n",
       "      <th>mean</th>\n",
       "      <td>599.953728</td>\n",
       "    </tr>\n",
       "    <tr>\n",
       "      <th>std</th>\n",
       "      <td>1714.591098</td>\n",
       "    </tr>\n",
       "    <tr>\n",
       "      <th>min</th>\n",
       "      <td>1.800000</td>\n",
       "    </tr>\n",
       "    <tr>\n",
       "      <th>25%</th>\n",
       "      <td>14.266667</td>\n",
       "    </tr>\n",
       "    <tr>\n",
       "      <th>50%</th>\n",
       "      <td>52.016667</td>\n",
       "    </tr>\n",
       "    <tr>\n",
       "      <th>75%</th>\n",
       "      <td>298.858333</td>\n",
       "    </tr>\n",
       "    <tr>\n",
       "      <th>max</th>\n",
       "      <td>10727.466667</td>\n",
       "    </tr>\n",
       "  </tbody>\n",
       "</table>\n",
       "</div>"
      ],
      "text/plain": [
       "       average_trips\n",
       "count      94.000000\n",
       "mean      599.953728\n",
       "std      1714.591098\n",
       "min         1.800000\n",
       "25%        14.266667\n",
       "50%        52.016667\n",
       "75%       298.858333\n",
       "max     10727.466667"
      ]
     },
     "execution_count": 100,
     "metadata": {},
     "output_type": "execute_result"
    }
   ],
   "source": [
    "dropoff_trips_df.describe()"
   ]
  },
  {
   "cell_type": "code",
   "execution_count": 102,
   "id": "3302ffde-4c97-475f-8de1-dc5de5030038",
   "metadata": {
    "tags": []
   },
   "outputs": [],
   "source": [
    "dropoff_trips_df['average_trips'] = dropoff_trips_df.average_trips.astype('int')"
   ]
  },
  {
   "cell_type": "code",
   "execution_count": 104,
   "id": "50989394-a65e-4dfd-966a-17ad3d146231",
   "metadata": {
    "tags": []
   },
   "outputs": [],
   "source": [
    "top_10_barrios = dropoff_trips_df.sort_values('average_trips', ascending = False).head(10)"
   ]
  },
  {
   "cell_type": "code",
   "execution_count": 106,
   "id": "decb841f-d8c3-4a0f-8f7e-93314f258574",
   "metadata": {
    "tags": []
   },
   "outputs": [],
   "source": [
    "top_10_barrios = top_10_barrios.set_index('dropoff_location_name')"
   ]
  },
  {
   "cell_type": "code",
   "execution_count": 108,
   "id": "ad5e14c7-896e-479f-bcfc-8931cac84ac4",
   "metadata": {
    "tags": []
   },
   "outputs": [
    {
     "data": {
      "image/png": "[encoded data removed]",
      "text/plain": [
       "<Figure size 640x480 with 1 Axes>"
      ]
     },
     "metadata": {},
     "output_type": "display_data"
    }
   ],
   "source": [
    "top_10_barrios.plot(kind = 'bar').set_title('Principales barrios en finalización del recorrido')\n",
    "plt.xlabel('Barrio')\n",
    "plt.ylabel('Promedio de viajes')\n",
    "plt.show()"
   ]
  },
  {
   "cell_type": "markdown",
   "id": "ab8853c2-f7e8-4894-a563-8cc07e45c325",
   "metadata": {},
   "source": [
    "* El barrio líder en destino de finalización es Loop con un 11% de recorridos promedios superior al segundo barrio River North."
   ]
  },
  {
   "cell_type": "code",
   "execution_count": 111,
   "id": "cb820034-dc2e-4571-91ee-aae964ddf55e",
   "metadata": {
    "tags": []
   },
   "outputs": [
    {
     "data": {
      "text/html": [
       "<div>\n",
       "<style scoped>\n",
       "    .dataframe tbody tr th:only-of-type {\n",
       "        vertical-align: middle;\n",
       "    }\n",
       "\n",
       "    .dataframe tbody tr th {\n",
       "        vertical-align: top;\n",
       "    }\n",
       "\n",
       "    .dataframe thead th {\n",
       "        text-align: right;\n",
       "    }\n",
       "</style>\n",
       "<table border=\"1\" class=\"dataframe\">\n",
       "  <thead>\n",
       "    <tr style=\"text-align: right;\">\n",
       "      <th></th>\n",
       "      <th>average_trips</th>\n",
       "    </tr>\n",
       "    <tr>\n",
       "      <th>dropoff_location_name</th>\n",
       "      <th></th>\n",
       "    </tr>\n",
       "  </thead>\n",
       "  <tbody>\n",
       "    <tr>\n",
       "      <th>Loop</th>\n",
       "      <td>10727</td>\n",
       "    </tr>\n",
       "    <tr>\n",
       "      <th>River North</th>\n",
       "      <td>9523</td>\n",
       "    </tr>\n",
       "    <tr>\n",
       "      <th>Streeterville</th>\n",
       "      <td>6664</td>\n",
       "    </tr>\n",
       "    <tr>\n",
       "      <th>West Loop</th>\n",
       "      <td>5163</td>\n",
       "    </tr>\n",
       "    <tr>\n",
       "      <th>O'Hare</th>\n",
       "      <td>2546</td>\n",
       "    </tr>\n",
       "    <tr>\n",
       "      <th>Lake View</th>\n",
       "      <td>2420</td>\n",
       "    </tr>\n",
       "    <tr>\n",
       "      <th>Grant Park</th>\n",
       "      <td>2068</td>\n",
       "    </tr>\n",
       "    <tr>\n",
       "      <th>Museum Campus</th>\n",
       "      <td>1510</td>\n",
       "    </tr>\n",
       "    <tr>\n",
       "      <th>Gold Coast</th>\n",
       "      <td>1364</td>\n",
       "    </tr>\n",
       "    <tr>\n",
       "      <th>Sheffield &amp; DePaul</th>\n",
       "      <td>1259</td>\n",
       "    </tr>\n",
       "  </tbody>\n",
       "</table>\n",
       "</div>"
      ],
      "text/plain": [
       "                       average_trips\n",
       "dropoff_location_name               \n",
       "Loop                           10727\n",
       "River North                     9523\n",
       "Streeterville                   6664\n",
       "West Loop                       5163\n",
       "O'Hare                          2546\n",
       "Lake View                       2420\n",
       "Grant Park                      2068\n",
       "Museum Campus                   1510\n",
       "Gold Coast                      1364\n",
       "Sheffield & DePaul              1259"
      ]
     },
     "execution_count": 111,
     "metadata": {},
     "output_type": "execute_result"
    }
   ],
   "source": [
    "top_10_barrios"
   ]
  },
  {
   "cell_type": "markdown",
   "id": "e057eabf-964c-4efa-a413-0270e1fbec45",
   "metadata": {},
   "source": [
    "### Paso 5. Prueba de hipótesis (Python)"
   ]
  },
  {
   "cell_type": "code",
   "execution_count": 113,
   "id": "d9e60e98-244f-4ea0-a080-fb278c36b13c",
   "metadata": {
    "tags": []
   },
   "outputs": [],
   "source": [
    "viajes_loop_aeropuerto = pd.read_csv ('moved_project_sql_result_07.csv')"
   ]
  },
  {
   "cell_type": "code",
   "execution_count": 115,
   "id": "7fb4cb2f-7236-436e-bec1-3f92bf5a7a82",
   "metadata": {
    "tags": []
   },
   "outputs": [
    {
     "data": {
      "text/html": [
       "<div>\n",
       "<style scoped>\n",
       "    .dataframe tbody tr th:only-of-type {\n",
       "        vertical-align: middle;\n",
       "    }\n",
       "\n",
       "    .dataframe tbody tr th {\n",
       "        vertical-align: top;\n",
       "    }\n",
       "\n",
       "    .dataframe thead th {\n",
       "        text-align: right;\n",
       "    }\n",
       "</style>\n",
       "<table border=\"1\" class=\"dataframe\">\n",
       "  <thead>\n",
       "    <tr style=\"text-align: right;\">\n",
       "      <th></th>\n",
       "      <th>start_ts</th>\n",
       "      <th>weather_conditions</th>\n",
       "      <th>duration_seconds</th>\n",
       "    </tr>\n",
       "  </thead>\n",
       "  <tbody>\n",
       "    <tr>\n",
       "      <th>0</th>\n",
       "      <td>2017-11-25 16:00:00</td>\n",
       "      <td>Good</td>\n",
       "      <td>2410.0</td>\n",
       "    </tr>\n",
       "    <tr>\n",
       "      <th>1</th>\n",
       "      <td>2017-11-25 14:00:00</td>\n",
       "      <td>Good</td>\n",
       "      <td>1920.0</td>\n",
       "    </tr>\n",
       "    <tr>\n",
       "      <th>2</th>\n",
       "      <td>2017-11-25 12:00:00</td>\n",
       "      <td>Good</td>\n",
       "      <td>1543.0</td>\n",
       "    </tr>\n",
       "    <tr>\n",
       "      <th>3</th>\n",
       "      <td>2017-11-04 10:00:00</td>\n",
       "      <td>Good</td>\n",
       "      <td>2512.0</td>\n",
       "    </tr>\n",
       "    <tr>\n",
       "      <th>4</th>\n",
       "      <td>2017-11-11 07:00:00</td>\n",
       "      <td>Good</td>\n",
       "      <td>1440.0</td>\n",
       "    </tr>\n",
       "    <tr>\n",
       "      <th>...</th>\n",
       "      <td>...</td>\n",
       "      <td>...</td>\n",
       "      <td>...</td>\n",
       "    </tr>\n",
       "    <tr>\n",
       "      <th>1063</th>\n",
       "      <td>2017-11-25 11:00:00</td>\n",
       "      <td>Good</td>\n",
       "      <td>0.0</td>\n",
       "    </tr>\n",
       "    <tr>\n",
       "      <th>1064</th>\n",
       "      <td>2017-11-11 10:00:00</td>\n",
       "      <td>Good</td>\n",
       "      <td>1318.0</td>\n",
       "    </tr>\n",
       "    <tr>\n",
       "      <th>1065</th>\n",
       "      <td>2017-11-11 13:00:00</td>\n",
       "      <td>Good</td>\n",
       "      <td>2100.0</td>\n",
       "    </tr>\n",
       "    <tr>\n",
       "      <th>1066</th>\n",
       "      <td>2017-11-11 08:00:00</td>\n",
       "      <td>Good</td>\n",
       "      <td>1380.0</td>\n",
       "    </tr>\n",
       "    <tr>\n",
       "      <th>1067</th>\n",
       "      <td>2017-11-04 16:00:00</td>\n",
       "      <td>Bad</td>\n",
       "      <td>2834.0</td>\n",
       "    </tr>\n",
       "  </tbody>\n",
       "</table>\n",
       "<p>1068 rows × 3 columns</p>\n",
       "</div>"
      ],
      "text/plain": [
       "                 start_ts weather_conditions  duration_seconds\n",
       "0     2017-11-25 16:00:00               Good            2410.0\n",
       "1     2017-11-25 14:00:00               Good            1920.0\n",
       "2     2017-11-25 12:00:00               Good            1543.0\n",
       "3     2017-11-04 10:00:00               Good            2512.0\n",
       "4     2017-11-11 07:00:00               Good            1440.0\n",
       "...                   ...                ...               ...\n",
       "1063  2017-11-25 11:00:00               Good               0.0\n",
       "1064  2017-11-11 10:00:00               Good            1318.0\n",
       "1065  2017-11-11 13:00:00               Good            2100.0\n",
       "1066  2017-11-11 08:00:00               Good            1380.0\n",
       "1067  2017-11-04 16:00:00                Bad            2834.0\n",
       "\n",
       "[1068 rows x 3 columns]"
      ]
     },
     "execution_count": 115,
     "metadata": {},
     "output_type": "execute_result"
    }
   ],
   "source": [
    "viajes_loop_aeropuerto"
   ]
  },
  {
   "cell_type": "code",
   "execution_count": 117,
   "id": "ec4f3aac-f3a8-4e01-bd36-068d41a31478",
   "metadata": {
    "tags": []
   },
   "outputs": [
    {
     "name": "stdout",
     "output_type": "stream",
     "text": [
      "<class 'pandas.core.frame.DataFrame'>\n",
      "RangeIndex: 1068 entries, 0 to 1067\n",
      "Data columns (total 3 columns):\n",
      " #   Column              Non-Null Count  Dtype  \n",
      "---  ------              --------------  -----  \n",
      " 0   start_ts            1068 non-null   object \n",
      " 1   weather_conditions  1068 non-null   object \n",
      " 2   duration_seconds    1068 non-null   float64\n",
      "dtypes: float64(1), object(2)\n",
      "memory usage: 25.2+ KB\n"
     ]
    }
   ],
   "source": [
    "viajes_loop_aeropuerto.info()"
   ]
  },
  {
   "cell_type": "code",
   "execution_count": 119,
   "id": "a4f3c15c-40fa-4b94-9613-fffa7d479d5f",
   "metadata": {
    "tags": []
   },
   "outputs": [
    {
     "data": {
      "image/png": "[encoded data removed]",
      "text/plain": [
       "<Figure size 640x480 with 1 Axes>"
      ]
     },
     "metadata": {},
     "output_type": "display_data"
    }
   ],
   "source": [
    "sns.boxplot( x = 'duration_seconds', y = 'weather_conditions', data = viajes_loop_aeropuerto ).set_title('Duración por condición climática')\n",
    "plt.xlabel ('Duración en segundos')\n",
    "plt.ylabel ('Condiciones climáticas')\n",
    "plt.show()"
   ]
  },
  {
   "cell_type": "markdown",
   "id": "4bfd8177-063d-405b-b67a-62270765a211",
   "metadata": {},
   "source": [
    "Para analizar mejor los datos quitamos los ouliers (a nivel macro) ya que estos afectan los cuartiles."
   ]
  },
  {
   "cell_type": "code",
   "execution_count": 163,
   "id": "89859fbb-249d-4f89-ae8d-e928d9c05f9f",
   "metadata": {
    "tags": []
   },
   "outputs": [
    {
     "data": {
      "image/png": "[encoded data removed]",
      "text/plain": [
       "<Figure size 640x480 with 1 Axes>"
      ]
     },
     "metadata": {},
     "output_type": "display_data"
    }
   ],
   "source": [
    "sns.boxplot( x = 'duration_seconds', data = viajes_loop_aeropuerto ).set_title('Duración por condición climática')\n",
    "plt.xlabel ('Duración en segundos')\n",
    "plt.ylabel ('Condiciones climáticas')\n",
    "plt.show()"
   ]
  },
  {
   "cell_type": "code",
   "execution_count": 165,
   "id": "6da34662-d7c8-436f-8b30-f02d28edf5c9",
   "metadata": {
    "tags": []
   },
   "outputs": [],
   "source": [
    "q01 = viajes_loop_aeropuerto['duration_seconds'].quantile(0.25)"
   ]
  },
  {
   "cell_type": "code",
   "execution_count": 167,
   "id": "bb723a04-cafc-4f43-9c92-160f9fa015b4",
   "metadata": {
    "tags": []
   },
   "outputs": [
    {
     "data": {
      "text/plain": [
       "1438.25"
      ]
     },
     "execution_count": 167,
     "metadata": {},
     "output_type": "execute_result"
    }
   ],
   "source": [
    "q01"
   ]
  },
  {
   "cell_type": "code",
   "execution_count": 169,
   "id": "7217e419-ed16-47fb-8c0b-3fbc7caff52b",
   "metadata": {
    "tags": []
   },
   "outputs": [],
   "source": [
    "q03 = viajes_loop_aeropuerto['duration_seconds'].quantile(0.75)"
   ]
  },
  {
   "cell_type": "code",
   "execution_count": 171,
   "id": "1c09b47e-b111-4cd6-8826-4702e5c5b328",
   "metadata": {
    "tags": []
   },
   "outputs": [
    {
     "data": {
      "text/plain": [
       "2580.0"
      ]
     },
     "execution_count": 171,
     "metadata": {},
     "output_type": "execute_result"
    }
   ],
   "source": [
    "q03"
   ]
  },
  {
   "cell_type": "code",
   "execution_count": 173,
   "id": "5864370d-3822-4ca2-80cf-67df4d51ef7a",
   "metadata": {
    "tags": []
   },
   "outputs": [],
   "source": [
    "iqr = q03 - q01"
   ]
  },
  {
   "cell_type": "code",
   "execution_count": 175,
   "id": "ca166c93-550c-4892-b821-61173b1419a3",
   "metadata": {
    "tags": []
   },
   "outputs": [
    {
     "data": {
      "text/plain": [
       "1141.75"
      ]
     },
     "execution_count": 175,
     "metadata": {},
     "output_type": "execute_result"
    }
   ],
   "source": [
    "iqr"
   ]
  },
  {
   "cell_type": "markdown",
   "id": "bab8b99f-0abc-4071-afd9-5cb2ec8316ec",
   "metadata": {},
   "source": [
    "Los valores extremos son los que están a más de 1.5 veces el rango intercuartílico (IQR) de alguno de los cuartiles Q1 o Q3."
   ]
  },
  {
   "cell_type": "code",
   "execution_count": 178,
   "id": "c4ba5d60-0085-43c7-b069-c3a105ce12e5",
   "metadata": {
    "tags": []
   },
   "outputs": [],
   "source": [
    "limite_inferior = q01 - (1.5*iqr)"
   ]
  },
  {
   "cell_type": "code",
   "execution_count": 180,
   "id": "fb63bd62-2ad0-42da-a6b4-a98df5e6748c",
   "metadata": {
    "tags": []
   },
   "outputs": [],
   "source": [
    "limite_superior = q03 + (1.5*iqr)"
   ]
  },
  {
   "cell_type": "code",
   "execution_count": 182,
   "id": "31771f1f-7ca9-4f69-b8f3-4c5b677277db",
   "metadata": {
    "tags": []
   },
   "outputs": [],
   "source": [
    "datos_sin_outliers = viajes_loop_aeropuerto.query('duration_seconds <= @limite_superior')\n",
    "datos_sin_outliers = datos_sin_outliers.query('duration_seconds >= @limite_inferior')"
   ]
  },
  {
   "cell_type": "code",
   "execution_count": 184,
   "id": "a76edcdf-77b8-41d3-b6ea-67174f8e774d",
   "metadata": {
    "tags": []
   },
   "outputs": [
    {
     "data": {
      "image/png": "[encoded data removed]",
      "text/plain": [
       "<Figure size 640x480 with 1 Axes>"
      ]
     },
     "metadata": {},
     "output_type": "display_data"
    }
   ],
   "source": [
    "sns.boxplot( x = 'duration_seconds', data = datos_sin_outliers).set_title('Duración por condición climática')\n",
    "plt.xlabel ('Duración en segundos')\n",
    "plt.ylabel ('Condiciones climáticas')\n",
    "plt.show()"
   ]
  },
  {
   "cell_type": "code",
   "execution_count": 186,
   "id": "fc653aeb-3e1b-42af-88a6-67e12780e2d7",
   "metadata": {
    "tags": []
   },
   "outputs": [
    {
     "data": {
      "image/png": "[encoded data removed]",
      "text/plain": [
       "<Figure size 640x480 with 1 Axes>"
      ]
     },
     "metadata": {},
     "output_type": "display_data"
    }
   ],
   "source": [
    "sns.boxplot( x = 'duration_seconds', y = 'weather_conditions', data = datos_sin_outliers).set_title('Duración por condición climática')\n",
    "plt.xlabel ('Duración en segundos')\n",
    "plt.ylabel ('Condiciones climáticas')\n",
    "plt.show()"
   ]
  },
  {
   "cell_type": "markdown",
   "id": "7ec6cfdc-412c-430c-ac0d-1a2afc585603",
   "metadata": {},
   "source": [
    "Prueba la hipótesis:\n",
    "\n",
    "\"La duración promedio de los viajes desde el Loop hasta el Aeropuerto Internacional O'Hare cambia los sábados lluviosos\".\n",
    "\n",
    "* Hipótesis nula:\n",
    "La duración promedio de los viajes desde el Loop hasta el Aeropuerto Internacional O'Hare es igual los sábados  lluviosos.\n",
    "\n",
    "* Hipótesis alternativa:\n",
    "La duración promedio de los viajes desde el Loop hasta el Aeropuerto Internacional O'Hare es diferente los sábados  lluviosos."
   ]
  },
  {
   "cell_type": "code",
   "execution_count": 237,
   "id": "505cc2be-b970-4708-9a61-739962348473",
   "metadata": {
    "tags": []
   },
   "outputs": [
    {
     "name": "stdout",
     "output_type": "stream",
     "text": [
      "p-valor: 1.2430038032744411e-13\n",
      "rechazamos la hipótesis nula\n"
     ]
    }
   ],
   "source": [
    "from scipy import stats as st\n",
    "viajes_buenas_condiciones = datos_sin_outliers.query('weather_conditions== \"Good\"')[\"duration_seconds\"]\n",
    "viajes_malas_condiciones = datos_sin_outliers.query('weather_conditions== \"Bad\"')[\"duration_seconds\"]\n",
    "alpha = 0.05\n",
    "cambio_condiciones= st.ttest_ind(viajes_buenas_condiciones, viajes_malas_condiciones)\n",
    "print(\"p-valor:\", cambio_condiciones.pvalue)\n",
    "if cambio_condiciones.pvalue < alpha:\n",
    "    print(\"rechazamos la hipótesis nula\")\n",
    "else:\n",
    "    print(\"no podemos rechazar la hipótesis nula\")\n"
   ]
  },
  {
   "cell_type": "markdown",
   "id": "a4113c8a-ded4-454e-8a45-edbb323d729f",
   "metadata": {},
   "source": [
    "Comprobamos que la varianza sea o no igual en ambas condiciones climáticas:\n",
    "\n",
    "* Hipótesis nula:\n",
    "Las varianzas de la duración promedio de los viajes desde el Loop hasta el Aeropuerto Internacional O'Hare son iguales en las dos condiciones climáticas.\n",
    "\n",
    "* Hipótesis alternativa:\n",
    "Las varianzas de la duración promedio de los viajes desde el Loop hasta el Aeropuerto Internacional O'Hare no son iguales en las dos condiciones climáticas."
   ]
  },
  {
   "cell_type": "code",
   "execution_count": 241,
   "id": "ab0a7bc3-32f3-4f5a-91c7-8062dc8f9b15",
   "metadata": {
    "tags": []
   },
   "outputs": [
    {
     "name": "stdout",
     "output_type": "stream",
     "text": [
      "no podemos rechazar la hipótesis nula\n"
     ]
    }
   ],
   "source": [
    "varianza_igual = st.levene(viajes_buenas_condiciones, viajes_malas_condiciones)\n",
    "\n",
    "if varianza_igual.pvalue < alpha:\n",
    "    print(\"rechazamos la hipótesis nula\")\n",
    "else:\n",
    "    print(\"no podemos rechazar la hipótesis nula\")"
   ]
  },
  {
   "cell_type": "markdown",
   "id": "0a24549b-cf91-46ea-b2cc-34e6439aa790",
   "metadata": {},
   "source": [
    "En conclusión la duración promedio de los viajes desde el Loop hasta el Aeropuerto Internacional O'Hare es diferente los sábados  lluviosos."
   ]
  },
  {
   "cell_type": "code",
   "execution_count": null,
   "id": "29a73c6d-ac9d-4bb7-aeda-e4d8016c5b49",
   "metadata": {},
   "outputs": [],
   "source": []
  }
 ],
 "metadata": {
  "kernelspec": {
   "display_name": "Python 3 (ipykernel)",
   "language": "python",
   "name": "python3"
  },
  "language_info": {
   "codemirror_mode": {
    "name": "ipython",
    "version": 3
   },
   "file_extension": ".py",
   "mimetype": "text/x-python",
   "name": "python",
   "nbconvert_exporter": "python",
   "pygments_lexer": "ipython3",
   "version": "3.12.7"
  }
 },
 "nbformat": 4,
 "nbformat_minor": 5
}
